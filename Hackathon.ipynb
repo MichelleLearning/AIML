{
 "cells": [
  {
   "cell_type": "markdown",
   "id": "d033fb6c",
   "metadata": {},
   "source": [
    "## HACKATHON\n",
    "**TEAM: Pragya**\n",
    "\n",
    "\n",
    "# Business Context\n",
    "The real estate sector can be very unpredictable and susceptible to a downturn in times of economic crisis. Whenever the economy suffers, the number of stressed assets can become a huge problem for housing finance companies. The bad debt and stressed assets result in a liquidity crunch and impact the banks that are lenders to both developers and property buyers. Timely risk analysis of these accounts can help lenders forecast the number and value of accounts that are at risk of developing into a Bad Debt in near future and eventually help them mitigate the losses.\n",
    "\n",
    "# About the Data\n",
    "The data belongs to the billing systems of various societies. These societies could be residential or public. The data has been collected over the years and has been summarised according to the total amount billed versus the total amount generated from the consumers. For each account, there is a label indicating whether an account resulted in a Bad Debt (the account that would be unable to pay the amount).\n",
    "\n",
    "**The objective is to build a classification model which can predict whether an account is becoming a Bad Debt. This prediction can help to forecast the number (and value) of accounts that are at risk of developing into a Bad Debt.**\n",
    "\n",
    "Steps:\n",
    "\n",
    "1. Import all the required libraries to read both train and test csv files.\n",
    "2. Perform EDA\n",
    "3. Build a Logistic Regression model to predict Bad Debt.\n",
    "4. Evaluate model & improve performance.\n",
    "5.  Predict Bad Debt for test data and make the submission.\n",
    "\n",
    "Evaluation Criteria: Mean Precision Score\n",
    "\n",
    "Mean of precision of all the classes = (P1+P2)/2  Here P1 is Precision of  Class 1 and P2 is Precision of Class2.\n",
    "\n",
    "# Data Dictionary:\n",
    "\n",
    "There are two files:-\n",
    "account_train.csv - for training the model\n",
    "account_test.csv - for prediction and submission\n",
    "\n",
    "- AccID: An unique id for the account\n",
    "- CategoryID: An unique id for the category of the society\n",
    "- Category: Category of society \n",
    "- Value: The market value of the particular property (account)\n",
    "- PropertySize: The size of the property in square meters\n",
    "- BillingAmt: The total amount payable by the resident to the society management\n",
    "- AverageBillingAmt: The average amount payable by the resident to the society management\n",
    "- CollectedAmt: The total amount collected from the resident \n",
    "- AverageCollectedAmt: The average amount collected from the resident \n",
    "- DebtAmt: The Total Debt that is at 90 days or more\n",
    "- WriteOffAmt: The Total amount of debt that has been written off\n",
    "- CollectionRatio: The ratio between the Total amount collected and Total Billing (ie. CollectedAmt/ BillingAmt)\n",
    "- DebtBillingRatio: The ratio between the Total Debt and Total Billing (ie. (Total Debt + Total Write Off)/Total Billing)\n",
    "- TotalElectricityBill: The total amount billed for electricity. This field was put in place because it is used as a means to recover debt - ie. If an amount is outstanding for any service the management has the right to cut a consumer's electricity connection.\n",
    "- HasID: The resident has an ID number. \n",
    "- Label: 1 = Is considered to be a Bad Debt, 0 = Not considered to be a Bad Debt"
   ]
  },
  {
   "cell_type": "markdown",
   "id": "484a6877",
   "metadata": {},
   "source": [
    "# 1. Loading libraries\n",
    "**Import Necessary Libraries**\n",
    "\n"
   ]
  },
  {
   "cell_type": "code",
   "execution_count": 100,
   "id": "09e1cabc",
   "metadata": {},
   "outputs": [],
   "source": [
    "import os\n",
    "import random\n",
    "import re\n",
    "import sys\n",
    "\n",
    "# Library to suppress warnings or deprecation notes\n",
    "import warnings\n",
    "warnings.filterwarnings(\"ignore\")\n",
    "\n",
    "# Libraries to help with reading and manipulating data\n",
    "\n",
    "import pandas as pd\n",
    "import numpy as np\n",
    "from sklearn import metrics\n",
    "\n",
    "# Library to split data\n",
    "from sklearn.model_selection import train_test_split\n",
    "\n",
    "# libaries to help with data visualization\n",
    "import matplotlib.pyplot as plt\n",
    "import seaborn as sns\n",
    "\n",
    "# Removes the limit for the number of displayed columns\n",
    "pd.set_option(\"display.max_columns\", None)\n",
    "# Sets the limit for the number of displayed rows\n",
    "pd.set_option(\"display.max_rows\", 200)\n",
    "\n",
    "# Libraries to build decision tree classifier\n",
    "from sklearn.tree import DecisionTreeClassifier\n",
    "from sklearn.ensemble import BaggingClassifier, RandomForestClassifier\n",
    "from sklearn.ensemble import AdaBoostClassifier, GradientBoostingClassifier\n",
    "#To install xgboost library use - !pip install xgboost \n",
    "from xgboost import XGBClassifier\n",
    "from sklearn import tree\n",
    "\n",
    "# To tune different models\n",
    "from sklearn.model_selection import GridSearchCV\n",
    "\n",
    "# To get Logisticmodels\n",
    "from sklearn.linear_model import LogisticRegression\n",
    "\n",
    "# To get diferent metric scores\n",
    "from sklearn.metrics import (\n",
    "    f1_score,\n",
    "    accuracy_score,\n",
    "    recall_score,\n",
    "    precision_score,\n",
    "    confusion_matrix,\n",
    "    roc_auc_score,\n",
    "    plot_confusion_matrix,\n",
    "    precision_recall_curve,\n",
    "    roc_curve,\n",
    ")\n",
    "\n",
    "#Standarize data\n",
    "from sklearn.preprocessing import StandardScaler, MinMaxScaler"
   ]
  },
  {
   "cell_type": "markdown",
   "id": "3d9e1b8a",
   "metadata": {},
   "source": [
    "# 2. Loading and exploring the data\n",
    "**Load the data**"
   ]
  },
  {
   "cell_type": "code",
   "execution_count": 101,
   "id": "16d3e4e0",
   "metadata": {},
   "outputs": [],
   "source": [
    "# Data_train will be used for modelling analysis, hence, we'll split data on training & validation \n",
    "data_train = pd.read_csv(\"account_train_(1).csv\")\n",
    "# Data test is only to predict values for the submission \n",
    "data_test = pd.read_csv(\"account_test_(1).csv\")\n",
    "# Results will be compared according to actual values in data_results\n",
    "data_results = pd.read_csv(\"Sample_Submission_File_(2).csv\")\n",
    "\n",
    "trn_df = data_train.copy()\n",
    "tst_df = data_test.copy()\n"
   ]
  },
  {
   "cell_type": "code",
   "execution_count": 102,
   "id": "7151e313",
   "metadata": {},
   "outputs": [],
   "source": [
    "data_train = trn_df.copy()\n",
    "data_test = tst_df.copy()"
   ]
  },
  {
   "cell_type": "markdown",
   "id": "1465c043",
   "metadata": {},
   "source": [
    "**Data format check**"
   ]
  },
  {
   "cell_type": "code",
   "execution_count": 103,
   "id": "1b437e0a",
   "metadata": {},
   "outputs": [
    {
     "data": {
      "text/html": [
       "<div>\n",
       "<style scoped>\n",
       "    .dataframe tbody tr th:only-of-type {\n",
       "        vertical-align: middle;\n",
       "    }\n",
       "\n",
       "    .dataframe tbody tr th {\n",
       "        vertical-align: top;\n",
       "    }\n",
       "\n",
       "    .dataframe thead th {\n",
       "        text-align: right;\n",
       "    }\n",
       "</style>\n",
       "<table border=\"1\" class=\"dataframe\">\n",
       "  <thead>\n",
       "    <tr style=\"text-align: right;\">\n",
       "      <th></th>\n",
       "      <th>AccID</th>\n",
       "      <th>CategoryID</th>\n",
       "      <th>Category</th>\n",
       "      <th>Value</th>\n",
       "      <th>PropertySize</th>\n",
       "      <th>BillingAmt</th>\n",
       "      <th>AverageBillingAmt</th>\n",
       "      <th>CollectedAmt</th>\n",
       "      <th>AverageCollectedAmt</th>\n",
       "      <th>DebtAmt</th>\n",
       "      <th>WriteOffAmt</th>\n",
       "      <th>CollectionRatio</th>\n",
       "      <th>DebtBillingRatio</th>\n",
       "      <th>TotalElectricityBill</th>\n",
       "      <th>HasID</th>\n",
       "      <th>Label</th>\n",
       "    </tr>\n",
       "  </thead>\n",
       "  <tbody>\n",
       "    <tr>\n",
       "      <th>1465</th>\n",
       "      <td>2a6f9e17-9835-4627-a604-8be9c1c28674</td>\n",
       "      <td>1</td>\n",
       "      <td>Residential</td>\n",
       "      <td>75000</td>\n",
       "      <td>496</td>\n",
       "      <td>8029</td>\n",
       "      <td>164</td>\n",
       "      <td>5760</td>\n",
       "      <td>230</td>\n",
       "      <td>29959</td>\n",
       "      <td>0</td>\n",
       "      <td>0.72</td>\n",
       "      <td>3.73</td>\n",
       "      <td>3345</td>\n",
       "      <td>1</td>\n",
       "      <td>1</td>\n",
       "    </tr>\n",
       "    <tr>\n",
       "      <th>48070</th>\n",
       "      <td>a630682f-f88c-4027-9ac0-0f9c1266c362</td>\n",
       "      <td>1</td>\n",
       "      <td>Residential</td>\n",
       "      <td>1100000</td>\n",
       "      <td>599</td>\n",
       "      <td>27999</td>\n",
       "      <td>384</td>\n",
       "      <td>28005</td>\n",
       "      <td>583</td>\n",
       "      <td>0</td>\n",
       "      <td>0</td>\n",
       "      <td>1.00</td>\n",
       "      <td>0.00</td>\n",
       "      <td>10578</td>\n",
       "      <td>1</td>\n",
       "      <td>0</td>\n",
       "    </tr>\n",
       "    <tr>\n",
       "      <th>82184</th>\n",
       "      <td>9bd3cf24-fc19-4370-81b2-f33bb8d4b50e</td>\n",
       "      <td>1</td>\n",
       "      <td>Residential</td>\n",
       "      <td>60000</td>\n",
       "      <td>269</td>\n",
       "      <td>343</td>\n",
       "      <td>5</td>\n",
       "      <td>0</td>\n",
       "      <td>0</td>\n",
       "      <td>276</td>\n",
       "      <td>0</td>\n",
       "      <td>0.00</td>\n",
       "      <td>0.80</td>\n",
       "      <td>0</td>\n",
       "      <td>1</td>\n",
       "      <td>1</td>\n",
       "    </tr>\n",
       "  </tbody>\n",
       "</table>\n",
       "</div>"
      ],
      "text/plain": [
       "                                      AccID  CategoryID     Category    Value  \\\n",
       "1465   2a6f9e17-9835-4627-a604-8be9c1c28674           1  Residential    75000   \n",
       "48070  a630682f-f88c-4027-9ac0-0f9c1266c362           1  Residential  1100000   \n",
       "82184  9bd3cf24-fc19-4370-81b2-f33bb8d4b50e           1  Residential    60000   \n",
       "\n",
       "       PropertySize  BillingAmt  AverageBillingAmt  CollectedAmt  \\\n",
       "1465            496        8029                164          5760   \n",
       "48070           599       27999                384         28005   \n",
       "82184           269         343                  5             0   \n",
       "\n",
       "       AverageCollectedAmt  DebtAmt  WriteOffAmt  CollectionRatio  \\\n",
       "1465                   230    29959            0             0.72   \n",
       "48070                  583        0            0             1.00   \n",
       "82184                    0      276            0             0.00   \n",
       "\n",
       "       DebtBillingRatio  TotalElectricityBill  HasID  Label  \n",
       "1465               3.73                  3345      1      1  \n",
       "48070              0.00                 10578      1      0  \n",
       "82184              0.80                     0      1      1  "
      ]
     },
     "execution_count": 103,
     "metadata": {},
     "output_type": "execute_result"
    }
   ],
   "source": [
    "data_train.sample(n=3, random_state=4)"
   ]
  },
  {
   "cell_type": "code",
   "execution_count": 104,
   "id": "4628d002",
   "metadata": {},
   "outputs": [
    {
     "data": {
      "text/html": [
       "<div>\n",
       "<style scoped>\n",
       "    .dataframe tbody tr th:only-of-type {\n",
       "        vertical-align: middle;\n",
       "    }\n",
       "\n",
       "    .dataframe tbody tr th {\n",
       "        vertical-align: top;\n",
       "    }\n",
       "\n",
       "    .dataframe thead th {\n",
       "        text-align: right;\n",
       "    }\n",
       "</style>\n",
       "<table border=\"1\" class=\"dataframe\">\n",
       "  <thead>\n",
       "    <tr style=\"text-align: right;\">\n",
       "      <th></th>\n",
       "      <th>AccID</th>\n",
       "      <th>CategoryID</th>\n",
       "      <th>Category</th>\n",
       "      <th>Value</th>\n",
       "      <th>PropertySize</th>\n",
       "      <th>BillingAmt</th>\n",
       "      <th>AverageBillingAmt</th>\n",
       "      <th>CollectedAmt</th>\n",
       "      <th>AverageCollectedAmt</th>\n",
       "      <th>DebtAmt</th>\n",
       "      <th>WriteOffAmt</th>\n",
       "      <th>CollectionRatio</th>\n",
       "      <th>DebtBillingRatio</th>\n",
       "      <th>TotalElectricityBill</th>\n",
       "      <th>HasID</th>\n",
       "    </tr>\n",
       "  </thead>\n",
       "  <tbody>\n",
       "    <tr>\n",
       "      <th>8293</th>\n",
       "      <td>452dca7e-fbac-42a7-9f69-4cf36a6e2fc4</td>\n",
       "      <td>2</td>\n",
       "      <td>Business</td>\n",
       "      <td>750000</td>\n",
       "      <td>1141910</td>\n",
       "      <td>1110</td>\n",
       "      <td>1110</td>\n",
       "      <td>0</td>\n",
       "      <td>0</td>\n",
       "      <td>7776</td>\n",
       "      <td>0</td>\n",
       "      <td>0.00</td>\n",
       "      <td>7.00</td>\n",
       "      <td>0</td>\n",
       "      <td>0</td>\n",
       "    </tr>\n",
       "    <tr>\n",
       "      <th>707</th>\n",
       "      <td>fb90c3ed-5ef8-4433-95cf-828d13fee5d8</td>\n",
       "      <td>2</td>\n",
       "      <td>Business</td>\n",
       "      <td>80000</td>\n",
       "      <td>1610</td>\n",
       "      <td>2412</td>\n",
       "      <td>186</td>\n",
       "      <td>1207</td>\n",
       "      <td>302</td>\n",
       "      <td>1017</td>\n",
       "      <td>0</td>\n",
       "      <td>0.50</td>\n",
       "      <td>0.42</td>\n",
       "      <td>0</td>\n",
       "      <td>0</td>\n",
       "    </tr>\n",
       "    <tr>\n",
       "      <th>20705</th>\n",
       "      <td>8cec3a16-8729-4960-ae25-935085335de8</td>\n",
       "      <td>1</td>\n",
       "      <td>Residential</td>\n",
       "      <td>0</td>\n",
       "      <td>2461</td>\n",
       "      <td>2274</td>\n",
       "      <td>27</td>\n",
       "      <td>513</td>\n",
       "      <td>256</td>\n",
       "      <td>0</td>\n",
       "      <td>0</td>\n",
       "      <td>0.23</td>\n",
       "      <td>0.00</td>\n",
       "      <td>0</td>\n",
       "      <td>1</td>\n",
       "    </tr>\n",
       "  </tbody>\n",
       "</table>\n",
       "</div>"
      ],
      "text/plain": [
       "                                      AccID  CategoryID     Category   Value  \\\n",
       "8293   452dca7e-fbac-42a7-9f69-4cf36a6e2fc4           2     Business  750000   \n",
       "707    fb90c3ed-5ef8-4433-95cf-828d13fee5d8           2     Business   80000   \n",
       "20705  8cec3a16-8729-4960-ae25-935085335de8           1  Residential       0   \n",
       "\n",
       "       PropertySize  BillingAmt  AverageBillingAmt  CollectedAmt  \\\n",
       "8293        1141910        1110               1110             0   \n",
       "707            1610        2412                186          1207   \n",
       "20705          2461        2274                 27           513   \n",
       "\n",
       "       AverageCollectedAmt  DebtAmt  WriteOffAmt  CollectionRatio  \\\n",
       "8293                     0     7776            0             0.00   \n",
       "707                    302     1017            0             0.50   \n",
       "20705                  256        0            0             0.23   \n",
       "\n",
       "       DebtBillingRatio  TotalElectricityBill  HasID  \n",
       "8293               7.00                     0      0  \n",
       "707                0.42                     0      0  \n",
       "20705              0.00                     0      1  "
      ]
     },
     "execution_count": 104,
     "metadata": {},
     "output_type": "execute_result"
    }
   ],
   "source": [
    "data_test.sample(n=3, random_state=4)"
   ]
  },
  {
   "cell_type": "markdown",
   "id": "04ec4e9b",
   "metadata": {},
   "source": [
    "**Observations:**\n",
    "    Data findings for train and test sets:\n",
    "- Values and property size variables correspond to property. Hence, adjustments are required for train and test sets:\n",
    "    - Note:replace to nan and median (Jay CODE)\n",
    "- Negative billing amt accts pay in advanced and a new dummy variable can be added: \n",
    "    - if BillingAmt<=0 then FullPayersAccts=1   else FullPayersAccts=0 (Note: \n",
    "- Data corrections are needed to obtain positive values in CollectedAmt and AverageCollectedAmt and CollectionRatio:\n",
    "    - If CollectedAmt <0 then CollectedAmt*(-1) else CollectedAmt (Note:# corrections)\n",
    "    - If AverageCollectedAmt <0 then AverageCollectedAmt *(-1) else AverageCollectedAmt (Note:# corrections)\n",
    "     - If CollectionRatio <0 then CollectionRatio *(-1) else CollectionRatio (Note:# corrections)\n",
    "- Correlation and multicollinearity tests are needed to select both or  one variable for:\n",
    "    - Billing Amt/AverageBillingAmt (Note: 1st iteration both and 2nd we can choose one)\n",
    "    - CollectedAmt/AverageCollectedAmt (Note: 1st iteration both and 2nd we can choose one)\n",
    "- New variable should be created to identify: current, delinquency (90+DPB) and WOFF (210+DPB) accts:\n",
    "    - If WriteOffAmt>0 then Age=”WOFF”, else if DebtAmt>0 then Age=”Delinq” else Age=“current”\n"
   ]
  },
  {
   "cell_type": "code",
   "execution_count": 105,
   "id": "a5e25ebc",
   "metadata": {},
   "outputs": [
    {
     "data": {
      "text/plain": [
       "Index(['AccID', 'CategoryID', 'Category', 'Value', 'PropertySize',\n",
       "       'BillingAmt', 'AverageBillingAmt', 'CollectedAmt',\n",
       "       'AverageCollectedAmt', 'DebtAmt', 'WriteOffAmt', 'CollectionRatio',\n",
       "       'DebtBillingRatio', 'TotalElectricityBill', 'HasID', 'Label'],\n",
       "      dtype='object')"
      ]
     },
     "execution_count": 105,
     "metadata": {},
     "output_type": "execute_result"
    }
   ],
   "source": [
    "data_train.columns"
   ]
  },
  {
   "cell_type": "markdown",
   "id": "a03fd104",
   "metadata": {},
   "source": [
    "# 3. Processing columns\n",
    "**Cleaning data: Values adjustments, new variable creation and correction of negative values.**"
   ]
  },
  {
   "cell_type": "code",
   "execution_count": 106,
   "id": "aa330ab9",
   "metadata": {},
   "outputs": [],
   "source": [
    "# Values and property size adjustments\n",
    "# Jay code \n",
    "# Values and property size adjustments\n",
    "# Jay code \n",
    "data_train[['Value', 'PropertySize']] = data_train[['Value', 'PropertySize']].replace(0, np.nan)\n",
    "data_test[['Value', 'PropertySize']] = data_test[['Value', 'PropertySize']].replace(0, np.nan)\n",
    "\n",
    "data_train[\"Value\"].fillna(data_train.Value.median(), inplace=True)\n",
    "data_test[\"Value\"].fillna(data_test.Value.median(), inplace=True)\n",
    "\n",
    "data_train[\"PropertySize\"].fillna(data_train.PropertySize.median(), inplace=True)\n",
    "data_test[\"PropertySize\"].fillna(data_test.PropertySize.median(), inplace=True)"
   ]
  },
  {
   "cell_type": "code",
   "execution_count": 107,
   "id": "e78c66a0",
   "metadata": {},
   "outputs": [],
   "source": [
    "#Data corrections for negative values in CollectedAmt & AverageCollectedAmt & CollectionRatio\n",
    "data_train.CollectedAmt = data_train.CollectedAmt.apply(lambda x: x*-1 if x <0 else x)\n",
    "data_test.CollectedAmt = data_test.CollectedAmt.apply(lambda x: x*-1 if x <0 else x)\n",
    "data_train.AverageCollectedAmt = data_train.AverageCollectedAmt.apply(lambda x: x*-1 if x <0 else x)\n",
    "data_test.AverageCollectedAmt = data_test.AverageCollectedAmt.apply(lambda x: x*-1 if x <0 else x)\n",
    "data_train.CollectionRatio = data_train.CollectionRatio.apply(lambda x: x*-1 if x <0 else x)\n",
    "data_test.CollectionRatio = data_test.CollectionRatio.apply(lambda x: x*-1 if x <0 else x)\n",
    "data_train.DebtBillingRatio = data_train.DebtBillingRatio.apply(lambda x: x*-1 if x <0 else x)\n",
    "data_test.DebtBillingRatio = data_test.DebtBillingRatio.apply(lambda x: x*-1 if x <0 else x)\n",
    "#First iteration convert negative to positive\n",
    "#Second negative values to zeros"
   ]
  },
  {
   "cell_type": "code",
   "execution_count": 108,
   "id": "fa2bc300",
   "metadata": {},
   "outputs": [],
   "source": [
    "#New variable for FullPayerAcct\n",
    "data_train['FullPayerAcct'] = np.where(data_train['BillingAmt'] <=0, 1,0)\n",
    "data_test['FullPayerAcct'] = np.where(data_test['BillingAmt'] <=0, 1,0)\n",
    "# Relook at second iteration"
   ]
  },
  {
   "cell_type": "code",
   "execution_count": 109,
   "id": "0f634939",
   "metadata": {},
   "outputs": [],
   "source": [
    "#New variable for Acct Age: current, delinquency or WOFF\n",
    "data_train['Age'] = np.where(data_train['WriteOffAmt'] >0, 'WOFF',np.where(data_train['DebtAmt'] >0, 'Delin','Current'))\n",
    "data_test['Age'] = np.where(data_test['WriteOffAmt'] >0, 'WOFF',np.where(data_test['DebtAmt'] >0, 'Delin','Current'))"
   ]
  },
  {
   "cell_type": "code",
   "execution_count": 110,
   "id": "87b0097a",
   "metadata": {},
   "outputs": [],
   "source": [
    "cols = ['BillingAmt', 'AverageBillingAmt','TotalElectricityBill']\n",
    "data_train[data_train[cols] < 0] = np.nan\n",
    "data_test[data_test[cols] < 0] = np.nan\n",
    "\n",
    "data_train[\"BillingAmt\"].fillna(data_train.BillingAmt.median(), inplace=True)\n",
    "data_test[\"BillingAmt\"].fillna(data_test.BillingAmt.median(), inplace=True)\n",
    "\n",
    "data_train[\"AverageBillingAmt\"].fillna(data_train.AverageBillingAmt.median(), inplace=True)\n",
    "data_test[\"AverageBillingAmt\"].fillna(data_test.AverageBillingAmt.median(), inplace=True)\n",
    "\n",
    "data_train[\"TotalElectricityBill\"].fillna(data_train.TotalElectricityBill.median(), inplace=True)\n",
    "data_test[\"TotalElectricityBill\"].fillna(data_test.TotalElectricityBill.median(), inplace=True)\n"
   ]
  },
  {
   "cell_type": "code",
   "execution_count": 111,
   "id": "7373e4a0",
   "metadata": {},
   "outputs": [
    {
     "data": {
      "text/html": [
       "<div>\n",
       "<style scoped>\n",
       "    .dataframe tbody tr th:only-of-type {\n",
       "        vertical-align: middle;\n",
       "    }\n",
       "\n",
       "    .dataframe tbody tr th {\n",
       "        vertical-align: top;\n",
       "    }\n",
       "\n",
       "    .dataframe thead th {\n",
       "        text-align: right;\n",
       "    }\n",
       "</style>\n",
       "<table border=\"1\" class=\"dataframe\">\n",
       "  <thead>\n",
       "    <tr style=\"text-align: right;\">\n",
       "      <th></th>\n",
       "      <th>count</th>\n",
       "      <th>mean</th>\n",
       "      <th>std</th>\n",
       "      <th>min</th>\n",
       "      <th>25%</th>\n",
       "      <th>50%</th>\n",
       "      <th>75%</th>\n",
       "      <th>max</th>\n",
       "    </tr>\n",
       "  </thead>\n",
       "  <tbody>\n",
       "    <tr>\n",
       "      <th>CategoryID</th>\n",
       "      <td>100476.0</td>\n",
       "      <td>2.245511</td>\n",
       "      <td>2.730572e+00</td>\n",
       "      <td>1.0</td>\n",
       "      <td>1.0</td>\n",
       "      <td>1.00</td>\n",
       "      <td>2.00</td>\n",
       "      <td>13.0</td>\n",
       "    </tr>\n",
       "    <tr>\n",
       "      <th>Value</th>\n",
       "      <td>100476.0</td>\n",
       "      <td>719586.143129</td>\n",
       "      <td>3.044810e+06</td>\n",
       "      <td>1.0</td>\n",
       "      <td>45000.0</td>\n",
       "      <td>140000.00</td>\n",
       "      <td>750000.00</td>\n",
       "      <td>421860000.0</td>\n",
       "    </tr>\n",
       "    <tr>\n",
       "      <th>PropertySize</th>\n",
       "      <td>100476.0</td>\n",
       "      <td>746875.454049</td>\n",
       "      <td>5.651551e+06</td>\n",
       "      <td>1.0</td>\n",
       "      <td>310.0</td>\n",
       "      <td>600.00</td>\n",
       "      <td>1162.00</td>\n",
       "      <td>270515963.0</td>\n",
       "    </tr>\n",
       "    <tr>\n",
       "      <th>BillingAmt</th>\n",
       "      <td>100476.0</td>\n",
       "      <td>11470.305566</td>\n",
       "      <td>1.253373e+05</td>\n",
       "      <td>0.0</td>\n",
       "      <td>832.0</td>\n",
       "      <td>3733.00</td>\n",
       "      <td>8715.00</td>\n",
       "      <td>26133617.0</td>\n",
       "    </tr>\n",
       "    <tr>\n",
       "      <th>AverageBillingAmt</th>\n",
       "      <td>100476.0</td>\n",
       "      <td>610.507405</td>\n",
       "      <td>6.400171e+03</td>\n",
       "      <td>0.0</td>\n",
       "      <td>43.0</td>\n",
       "      <td>116.00</td>\n",
       "      <td>281.00</td>\n",
       "      <td>805044.0</td>\n",
       "    </tr>\n",
       "    <tr>\n",
       "      <th>CollectedAmt</th>\n",
       "      <td>100476.0</td>\n",
       "      <td>9776.282276</td>\n",
       "      <td>1.201439e+05</td>\n",
       "      <td>0.0</td>\n",
       "      <td>0.0</td>\n",
       "      <td>369.00</td>\n",
       "      <td>7410.25</td>\n",
       "      <td>24371134.0</td>\n",
       "    </tr>\n",
       "    <tr>\n",
       "      <th>AverageCollectedAmt</th>\n",
       "      <td>100476.0</td>\n",
       "      <td>2053.310761</td>\n",
       "      <td>3.682439e+04</td>\n",
       "      <td>0.0</td>\n",
       "      <td>0.0</td>\n",
       "      <td>100.00</td>\n",
       "      <td>770.00</td>\n",
       "      <td>6828297.0</td>\n",
       "    </tr>\n",
       "    <tr>\n",
       "      <th>DebtAmt</th>\n",
       "      <td>100476.0</td>\n",
       "      <td>9642.500070</td>\n",
       "      <td>5.003013e+04</td>\n",
       "      <td>0.0</td>\n",
       "      <td>0.0</td>\n",
       "      <td>0.00</td>\n",
       "      <td>2298.00</td>\n",
       "      <td>6322610.0</td>\n",
       "    </tr>\n",
       "    <tr>\n",
       "      <th>WriteOffAmt</th>\n",
       "      <td>100476.0</td>\n",
       "      <td>602.765327</td>\n",
       "      <td>1.440915e+04</td>\n",
       "      <td>0.0</td>\n",
       "      <td>0.0</td>\n",
       "      <td>0.00</td>\n",
       "      <td>0.00</td>\n",
       "      <td>4306605.0</td>\n",
       "    </tr>\n",
       "    <tr>\n",
       "      <th>CollectionRatio</th>\n",
       "      <td>100476.0</td>\n",
       "      <td>31.842187</td>\n",
       "      <td>5.556934e+03</td>\n",
       "      <td>0.0</td>\n",
       "      <td>0.0</td>\n",
       "      <td>0.54</td>\n",
       "      <td>1.00</td>\n",
       "      <td>1701912.0</td>\n",
       "    </tr>\n",
       "    <tr>\n",
       "      <th>DebtBillingRatio</th>\n",
       "      <td>100476.0</td>\n",
       "      <td>46.280253</td>\n",
       "      <td>6.274577e+03</td>\n",
       "      <td>0.0</td>\n",
       "      <td>0.0</td>\n",
       "      <td>0.00</td>\n",
       "      <td>1.66</td>\n",
       "      <td>1836304.0</td>\n",
       "    </tr>\n",
       "    <tr>\n",
       "      <th>TotalElectricityBill</th>\n",
       "      <td>100476.0</td>\n",
       "      <td>4351.416408</td>\n",
       "      <td>1.050256e+05</td>\n",
       "      <td>0.0</td>\n",
       "      <td>0.0</td>\n",
       "      <td>0.00</td>\n",
       "      <td>88.00</td>\n",
       "      <td>22711689.0</td>\n",
       "    </tr>\n",
       "    <tr>\n",
       "      <th>HasID</th>\n",
       "      <td>100476.0</td>\n",
       "      <td>0.427634</td>\n",
       "      <td>4.947380e-01</td>\n",
       "      <td>0.0</td>\n",
       "      <td>0.0</td>\n",
       "      <td>0.00</td>\n",
       "      <td>1.00</td>\n",
       "      <td>1.0</td>\n",
       "    </tr>\n",
       "    <tr>\n",
       "      <th>Label</th>\n",
       "      <td>100476.0</td>\n",
       "      <td>0.461424</td>\n",
       "      <td>4.985121e-01</td>\n",
       "      <td>0.0</td>\n",
       "      <td>0.0</td>\n",
       "      <td>0.00</td>\n",
       "      <td>1.00</td>\n",
       "      <td>1.0</td>\n",
       "    </tr>\n",
       "    <tr>\n",
       "      <th>FullPayerAcct</th>\n",
       "      <td>100476.0</td>\n",
       "      <td>0.064722</td>\n",
       "      <td>2.460358e-01</td>\n",
       "      <td>0.0</td>\n",
       "      <td>0.0</td>\n",
       "      <td>0.00</td>\n",
       "      <td>0.00</td>\n",
       "      <td>1.0</td>\n",
       "    </tr>\n",
       "  </tbody>\n",
       "</table>\n",
       "</div>"
      ],
      "text/plain": [
       "                         count           mean           std  min      25%  \\\n",
       "CategoryID            100476.0       2.245511  2.730572e+00  1.0      1.0   \n",
       "Value                 100476.0  719586.143129  3.044810e+06  1.0  45000.0   \n",
       "PropertySize          100476.0  746875.454049  5.651551e+06  1.0    310.0   \n",
       "BillingAmt            100476.0   11470.305566  1.253373e+05  0.0    832.0   \n",
       "AverageBillingAmt     100476.0     610.507405  6.400171e+03  0.0     43.0   \n",
       "CollectedAmt          100476.0    9776.282276  1.201439e+05  0.0      0.0   \n",
       "AverageCollectedAmt   100476.0    2053.310761  3.682439e+04  0.0      0.0   \n",
       "DebtAmt               100476.0    9642.500070  5.003013e+04  0.0      0.0   \n",
       "WriteOffAmt           100476.0     602.765327  1.440915e+04  0.0      0.0   \n",
       "CollectionRatio       100476.0      31.842187  5.556934e+03  0.0      0.0   \n",
       "DebtBillingRatio      100476.0      46.280253  6.274577e+03  0.0      0.0   \n",
       "TotalElectricityBill  100476.0    4351.416408  1.050256e+05  0.0      0.0   \n",
       "HasID                 100476.0       0.427634  4.947380e-01  0.0      0.0   \n",
       "Label                 100476.0       0.461424  4.985121e-01  0.0      0.0   \n",
       "FullPayerAcct         100476.0       0.064722  2.460358e-01  0.0      0.0   \n",
       "\n",
       "                            50%        75%          max  \n",
       "CategoryID                 1.00       2.00         13.0  \n",
       "Value                 140000.00  750000.00  421860000.0  \n",
       "PropertySize             600.00    1162.00  270515963.0  \n",
       "BillingAmt              3733.00    8715.00   26133617.0  \n",
       "AverageBillingAmt        116.00     281.00     805044.0  \n",
       "CollectedAmt             369.00    7410.25   24371134.0  \n",
       "AverageCollectedAmt      100.00     770.00    6828297.0  \n",
       "DebtAmt                    0.00    2298.00    6322610.0  \n",
       "WriteOffAmt                0.00       0.00    4306605.0  \n",
       "CollectionRatio            0.54       1.00    1701912.0  \n",
       "DebtBillingRatio           0.00       1.66    1836304.0  \n",
       "TotalElectricityBill       0.00      88.00   22711689.0  \n",
       "HasID                      0.00       1.00          1.0  \n",
       "Label                      0.00       1.00          1.0  \n",
       "FullPayerAcct              0.00       0.00          1.0  "
      ]
     },
     "execution_count": 111,
     "metadata": {},
     "output_type": "execute_result"
    }
   ],
   "source": [
    "data_train.describe().T"
   ]
  },
  {
   "cell_type": "code",
   "execution_count": 112,
   "id": "684f978f",
   "metadata": {},
   "outputs": [],
   "source": [
    "# This functions plots a histogram and a boxplot\n",
    "def histogram_boxplot(data, feature, figsize=(12, 7), kde=False, bins=None):\n",
    "    \"\"\"\n",
    "    Boxplot and histogram combined\n",
    "\n",
    "    data: dataframe\n",
    "    feature: dataframe column\n",
    "    figsize: size of figure (default (12,7))\n",
    "    kde: whether to show the density curve (default False)\n",
    "    bins: number of bins for histogram (default None)\n",
    "    \"\"\"\n",
    "    f2, (ax_box2, ax_hist2) = plt.subplots(\n",
    "        nrows=2,  # Number of rows of the subplot grid= 2\n",
    "        sharex=True,  # x-axis will be shared among all subplots\n",
    "        gridspec_kw={\"height_ratios\": (0.25, 0.75)},\n",
    "        figsize=figsize,\n",
    "    )  # creating the 2 subplots\n",
    "    sns.boxplot(\n",
    "        data=data, x=feature, ax=ax_box2, showmeans=True, color=\"violet\"\n",
    "    )  # boxplot will be created and a star will indicate the mean value of the column\n",
    "    sns.histplot(\n",
    "        data=data, x=feature, kde=kde, ax=ax_hist2, bins=bins, palette=\"winter\"\n",
    "    ) if bins else sns.histplot(\n",
    "        data=data, x=feature, kde=kde, ax=ax_hist2\n",
    "    )  # For histogram\n",
    "    ax_hist2.axvline(\n",
    "        data[feature].mean(), color=\"green\", linestyle=\"--\"\n",
    "    )  # Add mean to the histogram\n",
    "    ax_hist2.axvline(\n",
    "        data[feature].median(), color=\"black\", linestyle=\"-\"\n",
    "    )  # Add median to the histogram"
   ]
  },
  {
   "cell_type": "markdown",
   "id": "809c52eb",
   "metadata": {},
   "source": [
    "**Observations:** Log() function is required due to large values. Only Ratios, FullPayerAcct and Category ID do not need transformation.\n",
    "**First iteration without log transformation**\n",
    "**Second iteration with log transformation consider negative variables:DebtBillingRatio,TotalElectricityBill, AverageBillingAmt, BillingAmt**"
   ]
  },
  {
   "cell_type": "code",
   "execution_count": 113,
   "id": "5eb395b7",
   "metadata": {},
   "outputs": [],
   "source": [
    "# # Lets add a unique id in place of Accid\n",
    "# data_train['uniAccID'] = data_train.AccID.map(hash)\n",
    "# data_test['uniAccID'] = data_test.AccID.map(hash)"
   ]
  },
  {
   "cell_type": "code",
   "execution_count": 114,
   "id": "6b919358",
   "metadata": {},
   "outputs": [],
   "source": [
    "col_log=['Value', 'PropertySize',\n",
    "        'CollectedAmt',\n",
    "       'AverageCollectedAmt', 'DebtAmt', 'WriteOffAmt','BillingAmt','TotalElectricityBill','AverageBillingAmt']\n",
    "for col in col_log:\n",
    "    data_train[col + \"_log\"] = np.log(data_train[col]+10)\n",
    "for col in col_log:\n",
    "    data_test[col + \"_log\"] = np.log(data_test[col]+10)\n",
    "# dropping the original columns\n",
    "data_train.drop(col_log, axis=1, inplace=True)\n",
    "data_test.drop(col_log, axis=1, inplace=True)\n",
    "\n",
    "#### relook at the second iteration\n"
   ]
  },
  {
   "cell_type": "markdown",
   "id": "02d35d65",
   "metadata": {},
   "source": [
    "**Second iteration with log transformation consider negative variables:DebtBillingRatio,TotalElectricityBill, AverageBillingAmt, BillingAmt**"
   ]
  },
  {
   "cell_type": "markdown",
   "id": "e84f9e67",
   "metadata": {},
   "source": [
    "**Observations:** \n",
    "    - Log transformation has issues with 0 and negative variables"
   ]
  },
  {
   "cell_type": "code",
   "execution_count": 115,
   "id": "cf8e49a6",
   "metadata": {},
   "outputs": [
    {
     "data": {
      "text/html": [
       "<div>\n",
       "<style scoped>\n",
       "    .dataframe tbody tr th:only-of-type {\n",
       "        vertical-align: middle;\n",
       "    }\n",
       "\n",
       "    .dataframe tbody tr th {\n",
       "        vertical-align: top;\n",
       "    }\n",
       "\n",
       "    .dataframe thead th {\n",
       "        text-align: right;\n",
       "    }\n",
       "</style>\n",
       "<table border=\"1\" class=\"dataframe\">\n",
       "  <thead>\n",
       "    <tr style=\"text-align: right;\">\n",
       "      <th></th>\n",
       "      <th>AccID</th>\n",
       "      <th>CategoryID</th>\n",
       "      <th>Category</th>\n",
       "      <th>CollectionRatio</th>\n",
       "      <th>DebtBillingRatio</th>\n",
       "      <th>HasID</th>\n",
       "      <th>Label</th>\n",
       "      <th>FullPayerAcct</th>\n",
       "      <th>Age</th>\n",
       "      <th>Value_log</th>\n",
       "      <th>PropertySize_log</th>\n",
       "      <th>CollectedAmt_log</th>\n",
       "      <th>AverageCollectedAmt_log</th>\n",
       "      <th>DebtAmt_log</th>\n",
       "      <th>WriteOffAmt_log</th>\n",
       "      <th>BillingAmt_log</th>\n",
       "      <th>TotalElectricityBill_log</th>\n",
       "      <th>AverageBillingAmt_log</th>\n",
       "    </tr>\n",
       "  </thead>\n",
       "  <tbody>\n",
       "    <tr>\n",
       "      <th>0</th>\n",
       "      <td>c8f5a7fa-4b2b-470f-8ad5-1c367a3c934a</td>\n",
       "      <td>1</td>\n",
       "      <td>Residential</td>\n",
       "      <td>0.99</td>\n",
       "      <td>0.0</td>\n",
       "      <td>0</td>\n",
       "      <td>0</td>\n",
       "      <td>0</td>\n",
       "      <td>Current</td>\n",
       "      <td>14.799352</td>\n",
       "      <td>6.388561</td>\n",
       "      <td>10.678814</td>\n",
       "      <td>8.378391</td>\n",
       "      <td>2.302585</td>\n",
       "      <td>2.302585</td>\n",
       "      <td>10.685721</td>\n",
       "      <td>2.302585</td>\n",
       "      <td>6.605298</td>\n",
       "    </tr>\n",
       "  </tbody>\n",
       "</table>\n",
       "</div>"
      ],
      "text/plain": [
       "                                  AccID  CategoryID     Category  \\\n",
       "0  c8f5a7fa-4b2b-470f-8ad5-1c367a3c934a           1  Residential   \n",
       "\n",
       "   CollectionRatio  DebtBillingRatio  HasID  Label  FullPayerAcct      Age  \\\n",
       "0             0.99               0.0      0      0              0  Current   \n",
       "\n",
       "   Value_log  PropertySize_log  CollectedAmt_log  AverageCollectedAmt_log  \\\n",
       "0  14.799352          6.388561         10.678814                 8.378391   \n",
       "\n",
       "   DebtAmt_log  WriteOffAmt_log  BillingAmt_log  TotalElectricityBill_log  \\\n",
       "0     2.302585         2.302585       10.685721                  2.302585   \n",
       "\n",
       "   AverageBillingAmt_log  \n",
       "0               6.605298  "
      ]
     },
     "execution_count": 115,
     "metadata": {},
     "output_type": "execute_result"
    }
   ],
   "source": [
    "data_train.head(1)"
   ]
  },
  {
   "cell_type": "code",
   "execution_count": 116,
   "id": "18128594",
   "metadata": {},
   "outputs": [],
   "source": [
    "# # Lets keep AccID and uniAccID mapping safe for future usage\n",
    "# AccID_map_trn = data_train[[\"AccID\", \"uniAccID\",\"uniAccID_log\"]]\n",
    "# AccID_map_tst = data_test[[\"AccID\", \"uniAccID\",\"uniAccID_log\"]]\n",
    "# AccID_map_trn.head()"
   ]
  },
  {
   "cell_type": "code",
   "execution_count": 117,
   "id": "5c6cd5bd",
   "metadata": {},
   "outputs": [],
   "source": [
    "#data_train[data_train['PropertySize_log'] < 0].head()"
   ]
  },
  {
   "cell_type": "code",
   "execution_count": 118,
   "id": "83150ed7",
   "metadata": {},
   "outputs": [],
   "source": [
    "# col_log_an =['Value', 'PropertySize',\n",
    "#        'BillingAmt', 'AverageBillingAmt', 'CollectedAmt',\n",
    "#        'AverageCollectedAmt', 'DebtAmt', 'WriteOffAmt', 'TotalElectricityBill']\n",
    "# trn_df['BillingAmt'][trn_df[['BillingAmt'] < 0] and trn_df['Label'] == 0].count()"
   ]
  },
  {
   "cell_type": "code",
   "execution_count": 119,
   "id": "756e42b2",
   "metadata": {},
   "outputs": [],
   "source": [
    "data_train = data_train [data_train.Category != 'Environmental Management']"
   ]
  },
  {
   "cell_type": "code",
   "execution_count": 120,
   "id": "4a8f4edf",
   "metadata": {},
   "outputs": [
    {
     "data": {
      "text/plain": [
       "(100474, 18)"
      ]
     },
     "execution_count": 120,
     "metadata": {},
     "output_type": "execute_result"
    }
   ],
   "source": [
    "data_train.shape"
   ]
  },
  {
   "cell_type": "code",
   "execution_count": 121,
   "id": "93746294",
   "metadata": {},
   "outputs": [
    {
     "data": {
      "image/png": "[encoded data removed]",
      "text/plain": [
       "<Figure size 1080x504 with 2 Axes>"
      ]
     },
     "metadata": {
      "needs_background": "light"
     },
     "output_type": "display_data"
    }
   ],
   "source": [
    "plt.figure(figsize=(15, 7))\n",
    "sns.heatmap(data_test.corr(), annot=True, vmin=-1, vmax=1, fmt=\".2f\", cmap=\"Spectral\")\n",
    "plt.show()"
   ]
  },
  {
   "cell_type": "code",
   "execution_count": 122,
   "id": "35d6a4ef",
   "metadata": {},
   "outputs": [],
   "source": [
    "data_train = pd.get_dummies(data=data_train, \n",
    "                            columns=['Category',\n",
    "                                     'Age',\n",
    "#                                      'PropertySizeBin',\n",
    "#                                      'HasID'\n",
    "                                     ])\n"
   ]
  },
  {
   "cell_type": "code",
   "execution_count": 123,
   "id": "9e62cbfc",
   "metadata": {},
   "outputs": [],
   "source": [
    "data_test = pd.get_dummies(data=data_test, \n",
    "                            columns=['Category',\n",
    "                                     'Age'\n",
    "#                                      'PropertySizeBin',\n",
    "#                                      'HasID'\n",
    "                                     ])\n"
   ]
  },
  {
   "cell_type": "code",
   "execution_count": 124,
   "id": "a3a2a96d",
   "metadata": {},
   "outputs": [
    {
     "name": "stdout",
     "output_type": "stream",
     "text": [
      "<class 'pandas.core.frame.DataFrame'>\n",
      "RangeIndex: 33493 entries, 0 to 33492\n",
      "Data columns (total 29 columns):\n",
      " #   Column                     Non-Null Count  Dtype  \n",
      "---  ------                     --------------  -----  \n",
      " 0   AccID                      33493 non-null  object \n",
      " 1   CategoryID                 33493 non-null  int64  \n",
      " 2   CollectionRatio            33493 non-null  float64\n",
      " 3   DebtBillingRatio           33493 non-null  float64\n",
      " 4   HasID                      33493 non-null  int64  \n",
      " 5   FullPayerAcct              33493 non-null  int32  \n",
      " 6   Value_log                  33493 non-null  float64\n",
      " 7   PropertySize_log           33493 non-null  float64\n",
      " 8   CollectedAmt_log           33493 non-null  float64\n",
      " 9   AverageCollectedAmt_log    33493 non-null  float64\n",
      " 10  DebtAmt_log                33493 non-null  float64\n",
      " 11  WriteOffAmt_log            33493 non-null  float64\n",
      " 12  BillingAmt_log             33493 non-null  float64\n",
      " 13  TotalElectricityBill_log   33493 non-null  float64\n",
      " 14  AverageBillingAmt_log      33493 non-null  float64\n",
      " 15  Category_Agricultural      33493 non-null  uint8  \n",
      " 16  Category_Business          33493 non-null  uint8  \n",
      " 17  Category_Educational       33493 non-null  uint8  \n",
      " 18  Category_Government        33493 non-null  uint8  \n",
      " 19  Category_Industry          33493 non-null  uint8  \n",
      " 20  Category_Infrastructure    33493 non-null  uint8  \n",
      " 21  Category_Municipal         33493 non-null  uint8  \n",
      " 22  Category_Place of Worship  33493 non-null  uint8  \n",
      " 23  Category_Public Benefit    33493 non-null  uint8  \n",
      " 24  Category_Residential       33493 non-null  uint8  \n",
      " 25  Category_Unknown           33493 non-null  uint8  \n",
      " 26  Age_Current                33493 non-null  uint8  \n",
      " 27  Age_Delin                  33493 non-null  uint8  \n",
      " 28  Age_WOFF                   33493 non-null  uint8  \n",
      "dtypes: float64(11), int32(1), int64(2), object(1), uint8(14)\n",
      "memory usage: 4.2+ MB\n"
     ]
    }
   ],
   "source": [
    "data_test.info()"
   ]
  },
  {
   "cell_type": "code",
   "execution_count": 125,
   "id": "3395d693",
   "metadata": {},
   "outputs": [
    {
     "name": "stdout",
     "output_type": "stream",
     "text": [
      "<class 'pandas.core.frame.DataFrame'>\n",
      "Int64Index: 100474 entries, 0 to 100475\n",
      "Data columns (total 30 columns):\n",
      " #   Column                     Non-Null Count   Dtype  \n",
      "---  ------                     --------------   -----  \n",
      " 0   AccID                      100474 non-null  object \n",
      " 1   CategoryID                 100474 non-null  int64  \n",
      " 2   CollectionRatio            100474 non-null  float64\n",
      " 3   DebtBillingRatio           100474 non-null  float64\n",
      " 4   HasID                      100474 non-null  int64  \n",
      " 5   Label                      100474 non-null  int64  \n",
      " 6   FullPayerAcct              100474 non-null  int32  \n",
      " 7   Value_log                  100474 non-null  float64\n",
      " 8   PropertySize_log           100474 non-null  float64\n",
      " 9   CollectedAmt_log           100474 non-null  float64\n",
      " 10  AverageCollectedAmt_log    100474 non-null  float64\n",
      " 11  DebtAmt_log                100474 non-null  float64\n",
      " 12  WriteOffAmt_log            100474 non-null  float64\n",
      " 13  BillingAmt_log             100474 non-null  float64\n",
      " 14  TotalElectricityBill_log   100474 non-null  float64\n",
      " 15  AverageBillingAmt_log      100474 non-null  float64\n",
      " 16  Category_Agricultural      100474 non-null  uint8  \n",
      " 17  Category_Business          100474 non-null  uint8  \n",
      " 18  Category_Educational       100474 non-null  uint8  \n",
      " 19  Category_Government        100474 non-null  uint8  \n",
      " 20  Category_Industry          100474 non-null  uint8  \n",
      " 21  Category_Infrastructure    100474 non-null  uint8  \n",
      " 22  Category_Municipal         100474 non-null  uint8  \n",
      " 23  Category_Place of Worship  100474 non-null  uint8  \n",
      " 24  Category_Public Benefit    100474 non-null  uint8  \n",
      " 25  Category_Residential       100474 non-null  uint8  \n",
      " 26  Category_Unknown           100474 non-null  uint8  \n",
      " 27  Age_Current                100474 non-null  uint8  \n",
      " 28  Age_Delin                  100474 non-null  uint8  \n",
      " 29  Age_WOFF                   100474 non-null  uint8  \n",
      "dtypes: float64(11), int32(1), int64(3), object(1), uint8(14)\n",
      "memory usage: 14.0+ MB\n"
     ]
    }
   ],
   "source": [
    "data_train.info()"
   ]
  },
  {
   "cell_type": "markdown",
   "id": "e241df7e",
   "metadata": {},
   "source": [
    "## Modeling"
   ]
  },
  {
   "cell_type": "markdown",
   "id": "0a07fcde",
   "metadata": {},
   "source": [
    "### Train and Test set creation"
   ]
  },
  {
   "cell_type": "code",
   "execution_count": 126,
   "id": "2c299c4a",
   "metadata": {},
   "outputs": [],
   "source": [
    "data_train_cp = data_train.copy()\n",
    "data_test_cp = data_test.copy()"
   ]
  },
  {
   "cell_type": "code",
   "execution_count": 127,
   "id": "329fc116",
   "metadata": {},
   "outputs": [],
   "source": [
    "data_train.drop(['CategoryID','AccID'], axis=1, inplace=True)\n",
    "data_test.drop(['CategoryID','AccID'], axis=1, inplace=True)"
   ]
  },
  {
   "cell_type": "markdown",
   "id": "c9e37768",
   "metadata": {},
   "source": [
    "### Train and Test dataset to calculate P1"
   ]
  },
  {
   "cell_type": "code",
   "execution_count": 128,
   "id": "f2eef5db",
   "metadata": {},
   "outputs": [],
   "source": [
    "X = data_train.drop([\"Label\"], axis=1)\n",
    "y = data_train[\"Label\"]"
   ]
  },
  {
   "cell_type": "code",
   "execution_count": 129,
   "id": "1827ec51",
   "metadata": {},
   "outputs": [
    {
     "name": "stdout",
     "output_type": "stream",
     "text": [
      "<class 'pandas.core.frame.DataFrame'>\n",
      "Int64Index: 100474 entries, 0 to 100475\n",
      "Data columns (total 27 columns):\n",
      " #   Column                     Non-Null Count   Dtype  \n",
      "---  ------                     --------------   -----  \n",
      " 0   CollectionRatio            100474 non-null  float64\n",
      " 1   DebtBillingRatio           100474 non-null  float64\n",
      " 2   HasID                      100474 non-null  int64  \n",
      " 3   FullPayerAcct              100474 non-null  int32  \n",
      " 4   Value_log                  100474 non-null  float64\n",
      " 5   PropertySize_log           100474 non-null  float64\n",
      " 6   CollectedAmt_log           100474 non-null  float64\n",
      " 7   AverageCollectedAmt_log    100474 non-null  float64\n",
      " 8   DebtAmt_log                100474 non-null  float64\n",
      " 9   WriteOffAmt_log            100474 non-null  float64\n",
      " 10  BillingAmt_log             100474 non-null  float64\n",
      " 11  TotalElectricityBill_log   100474 non-null  float64\n",
      " 12  AverageBillingAmt_log      100474 non-null  float64\n",
      " 13  Category_Agricultural      100474 non-null  uint8  \n",
      " 14  Category_Business          100474 non-null  uint8  \n",
      " 15  Category_Educational       100474 non-null  uint8  \n",
      " 16  Category_Government        100474 non-null  uint8  \n",
      " 17  Category_Industry          100474 non-null  uint8  \n",
      " 18  Category_Infrastructure    100474 non-null  uint8  \n",
      " 19  Category_Municipal         100474 non-null  uint8  \n",
      " 20  Category_Place of Worship  100474 non-null  uint8  \n",
      " 21  Category_Public Benefit    100474 non-null  uint8  \n",
      " 22  Category_Residential       100474 non-null  uint8  \n",
      " 23  Category_Unknown           100474 non-null  uint8  \n",
      " 24  Age_Current                100474 non-null  uint8  \n",
      " 25  Age_Delin                  100474 non-null  uint8  \n",
      " 26  Age_WOFF                   100474 non-null  uint8  \n",
      "dtypes: float64(11), int32(1), int64(1), uint8(14)\n",
      "memory usage: 11.7 MB\n"
     ]
    }
   ],
   "source": [
    "X.info()"
   ]
  },
  {
   "cell_type": "code",
   "execution_count": 130,
   "id": "4013924c",
   "metadata": {},
   "outputs": [],
   "source": [
    "# Splitting data in train and test sets\n",
    "X_train, X_test, y_train, y_test = train_test_split(\n",
    "    X, y, test_size=0.30, random_state=1\n",
    ")"
   ]
  },
  {
   "cell_type": "code",
   "execution_count": 131,
   "id": "2d5ad100",
   "metadata": {},
   "outputs": [
    {
     "name": "stdout",
     "output_type": "stream",
     "text": [
      "Test Label True Values        : 13882 (46.05%)\n",
      "Test Label False Values       : 16261 (53.95%)\n",
      "\n"
     ]
    }
   ],
   "source": [
    "print(\"Test Label True Values        : {0} ({1:0.2f}%)\".format(len(y_test[y_test[:] == 1]), (len(y_test[y_test[:] == 1])/len(y_test)) * 100))\n",
    "print(\"Test Label False Values       : {0} ({1:0.2f}%)\".format(len(y_test[y_test[:] == 0]), (len(y_test[y_test[:] == 0])/len(y_test)) * 100))\n",
    "print(\"\")"
   ]
  },
  {
   "cell_type": "code",
   "execution_count": 132,
   "id": "6534911b",
   "metadata": {},
   "outputs": [
    {
     "name": "stdout",
     "output_type": "stream",
     "text": [
      "Train Label True Values        : 32479 (46.18%)\n",
      "Train Label False Values       : 37852 (53.82%)\n",
      "\n"
     ]
    }
   ],
   "source": [
    "print(\"Train Label True Values        : {0} ({1:0.2f}%)\".format(len(y_train[y_train[:] == 1]), (len(y_train[y_train[:] == 1])/len(y_train)) * 100))\n",
    "print(\"Train Label False Values       : {0} ({1:0.2f}%)\".format(len(y_train[y_train[:] == 0]), (len(y_train[y_train[:] == 0])/len(y_train)) * 100))\n",
    "print(\"\")"
   ]
  },
  {
   "cell_type": "markdown",
   "id": "8a58c4e7",
   "metadata": {},
   "source": [
    "## Bagging Classifier Tuned"
   ]
  },
  {
   "cell_type": "code",
   "execution_count": 159,
   "id": "0987ea9e",
   "metadata": {},
   "outputs": [],
   "source": [
    "# defining a function to compute different metrics to check performance of a classification model built using sklearn\n",
    "\n",
    "\n",
    "def model_performance_classification_sklearn_with_threshold(\n",
    "    model, predictors, target, threshold=0.5\n",
    "):\n",
    "    \"\"\"\n",
    "    Function to compute different metrics, based on the threshold specified, to check classification model performance\n",
    "\n",
    "    model: classifier\n",
    "    predictors: independent variables\n",
    "    target: dependent variable\n",
    "    threshold: threshold for classifying the observation as class 1\n",
    "    \"\"\"\n",
    "\n",
    "    # predicting using the independent variables\n",
    "    pred_prob = model.predict_proba(predictors)[:, 1]\n",
    "    pred_thres = pred_prob > threshold\n",
    "    pred = np.round(pred_thres)\n",
    "\n",
    "    acc = accuracy_score(target, pred)  # to compute Accuracy\n",
    "    recall = recall_score(target, pred)  # to compute Recall\n",
    "    precision = precision_score(target, pred)  # to compute Precision\n",
    "    f1 = f1_score(target, pred)  # to compute F1-score\n",
    "\n",
    "    # creating a dataframe of metrics\n",
    "    df_perf = pd.DataFrame(\n",
    "        {\"Accuracy\": acc, \"Recall\": recall, \"Precision\": precision, \"F1\": f1,},\n",
    "        index=[0],\n",
    "    )\n",
    "\n",
    "    return df_perf"
   ]
  },
  {
   "cell_type": "code",
   "execution_count": 160,
   "id": "71888a6d",
   "metadata": {},
   "outputs": [],
   "source": [
    "## Function to create confusion matrix\n",
    "def make_confusion_matrix(model,y_actual,labels=[1, 0]):\n",
    "    '''\n",
    "    model : classifier to predict values of X\n",
    "    y_actual : ground truth  \n",
    "    \n",
    "    '''\n",
    "    y_predict = model.predict(X_test)\n",
    "    cm=metrics.confusion_matrix( y_actual, y_predict, labels=[0, 1])\n",
    "    df_cm = pd.DataFrame(cm, index = [i for i in [\"Actual - No\",\"Actual - Yes\"]],\n",
    "                  columns = [i for i in ['Predicted - No','Predicted - Yes']])\n",
    "    group_counts = [\"{0:0.0f}\".format(value) for value in\n",
    "                cm.flatten()]\n",
    "    group_percentages = [\"{0:.2%}\".format(value) for value in\n",
    "                         cm.flatten()/np.sum(cm)]\n",
    "    labels = [f\"{v1}\\n{v2}\" for v1, v2 in\n",
    "              zip(group_counts,group_percentages)]\n",
    "    labels = np.asarray(labels).reshape(2,2)\n",
    "    plt.figure(figsize = (10,7))\n",
    "    sns.heatmap(df_cm, annot=labels,fmt='')\n",
    "    plt.ylabel('True label')\n",
    "    plt.xlabel('Predicted label')"
   ]
  },
  {
   "cell_type": "code",
   "execution_count": 161,
   "id": "431b4dc0",
   "metadata": {},
   "outputs": [],
   "source": [
    "##  Function to calculate different metric scores of the model - Accuracy, Recall and Precision\n",
    "def get_metrics_score(model,flag=True):\n",
    "    '''\n",
    "    model : classifier to predict values of X\n",
    "\n",
    "    '''\n",
    "    # defining an empty list to store train and test results\n",
    "    score_list=[] \n",
    "    \n",
    "    #Predicting on train and tests\n",
    "    pred_train = model.predict(X_train)\n",
    "    pred_test = model.predict(X_test)\n",
    "    \n",
    "    #Accuracy of the model\n",
    "    train_acc = model.score(X_train,y_train)\n",
    "    test_acc = model.score(X_test,y_test)\n",
    "    \n",
    "    #Recall of the model\n",
    "    train_recall = metrics.recall_score(y_train,pred_train)\n",
    "    test_recall = metrics.recall_score(y_test,pred_test)\n",
    "    \n",
    "    #Precision of the model\n",
    "    train_precision = metrics.precision_score(y_train,pred_train)\n",
    "    test_precision = metrics.precision_score(y_test,pred_test)\n",
    "    \n",
    "    score_list.extend((train_acc,test_acc,train_recall,test_recall,train_precision,test_precision))\n",
    "        \n",
    "    # If the flag is set to True then only the following print statements will be dispayed. The default value is set to True.\n",
    "    if flag == True: \n",
    "        print(\"Accuracy on training set : \",model.score(X_train,y_train))\n",
    "        print(\"Accuracy on test set : \",model.score(X_test,y_test))\n",
    "        print(\"Recall on training set : \",metrics.recall_score(y_train,pred_train))\n",
    "        print(\"Recall on test set : \",metrics.recall_score(y_test,pred_test))\n",
    "        print(\"Precision on training set : \",metrics.precision_score(y_train,pred_train))\n",
    "        print(\"Precision on test set : \",metrics.precision_score(y_test,pred_test))\n",
    "    \n",
    "    return score_list # returning the list with train and test scores"
   ]
  },
  {
   "cell_type": "markdown",
   "id": "d86fee9e",
   "metadata": {},
   "source": [
    "### Testing against the test sheet\n",
    "Lets train the data using training datset provided and predict the labels for test dataset"
   ]
  },
  {
   "cell_type": "code",
   "execution_count": 166,
   "id": "01d4ddc0",
   "metadata": {},
   "outputs": [],
   "source": [
    "X_train = data_train.drop([\"Label\"], axis=1)\n",
    "y_train = data_train[\"Label\"]"
   ]
  },
  {
   "cell_type": "code",
   "execution_count": 167,
   "id": "f141e083",
   "metadata": {},
   "outputs": [],
   "source": [
    "X_test = data_test.copy() # Not using train test split function , just taking the test data from provided csv"
   ]
  },
  {
   "cell_type": "code",
   "execution_count": 168,
   "id": "bd8a3e40",
   "metadata": {},
   "outputs": [
    {
     "name": "stdout",
     "output_type": "stream",
     "text": [
      "Train Label True Values        : 46361 (46.14%)\n",
      "Train Label False Values       : 54113 (53.86%)\n",
      "\n"
     ]
    }
   ],
   "source": [
    "print(\"Train Label True Values        : {0} ({1:0.2f}%)\".format(len(y_train[y_train[:] == 1]), (len(y_train[y_train[:] == 1])/len(y_train)) * 100))\n",
    "print(\"Train Label False Values       : {0} ({1:0.2f}%)\".format(len(y_train[y_train[:] == 0]), (len(y_train[y_train[:] == 0])/len(y_train)) * 100))\n",
    "print(\"\")"
   ]
  },
  {
   "cell_type": "code",
   "execution_count": 175,
   "id": "277eec29",
   "metadata": {},
   "outputs": [
    {
     "data": {
      "text/plain": [
       "BaggingClassifier(max_features=0.9, max_samples=0.7, n_estimators=30,\n",
       "                  random_state=1)"
      ]
     },
     "execution_count": 175,
     "metadata": {},
     "output_type": "execute_result"
    }
   ],
   "source": [
    "# Choose the type of classifier. \n",
    "bagging_estimator_tuned = BaggingClassifier(random_state=1)\n",
    "\n",
    "# Grid of parameters to choose from\n",
    "## add from article\n",
    "parameters = {'max_samples': [0.7,0.8,0.9,1], \n",
    "              'max_features': [0.7,0.8,0.9,1],\n",
    "              'n_estimators' : [10,20,30,40,50],\n",
    "             }\n",
    "\n",
    "# Type of scoring used to compare parameter combinations\n",
    "acc_scorer = metrics.make_scorer(metrics.recall_score)\n",
    "\n",
    "# Run the grid search\n",
    "grid_obj = GridSearchCV(bagging_estimator_tuned, parameters, scoring=acc_scorer,cv=5)\n",
    "grid_obj = grid_obj.fit(X_train, y_train)\n",
    "\n",
    "# Set the clf to the best combination of parameters\n",
    "bagging_estimator_tuned = grid_obj.best_estimator_\n",
    "\n",
    "# Fit the best algorithm to the data.\n",
    "bagging_estimator_tuned.fit(X_train, y_train)"
   ]
  },
  {
   "cell_type": "code",
   "execution_count": 176,
   "id": "97b78f98",
   "metadata": {},
   "outputs": [],
   "source": [
    "ny_test = rf_estimator.predict(X_test)"
   ]
  },
  {
   "cell_type": "code",
   "execution_count": 177,
   "id": "a6378162",
   "metadata": {},
   "outputs": [
    {
     "name": "stdout",
     "output_type": "stream",
     "text": [
      "Test Label True Values        : 15392 (45.96%)\n",
      "Test Label False Values       : 18101 (54.04%)\n",
      "\n"
     ]
    }
   ],
   "source": [
    "print(\"Test Label True Values        : {0} ({1:0.2f}%)\".format(len(ny_test[ny_test[:] == 1]), (len(ny_test[ny_test[:] == 1])/len(ny_test)) * 100))\n",
    "print(\"Test Label False Values       : {0} ({1:0.2f}%)\".format(len(ny_test[ny_test[:] == 0]), (len(ny_test[ny_test[:] == 0])/len(ny_test)) * 100))\n",
    "print(\"\")"
   ]
  },
  {
   "cell_type": "markdown",
   "id": "b5d51614",
   "metadata": {},
   "source": [
    "## Now lets export the output"
   ]
  },
  {
   "cell_type": "code",
   "execution_count": 178,
   "id": "aae9f54f",
   "metadata": {},
   "outputs": [],
   "source": [
    "dict = {'AccID': data_test_cp['AccID'], 'Label': ny_test}\n",
    "df = pd.DataFrame(dict)\n",
    "df.to_csv('Submission_File_Pragya_gbt.csv', index=False,header=True)"
   ]
  },
  {
   "cell_type": "code",
   "execution_count": null,
   "id": "62c74efe",
   "metadata": {},
   "outputs": [],
   "source": []
  }
 ],
 "metadata": {
  "kernelspec": {
   "display_name": "Python 3",
   "language": "python",
   "name": "python3"
  },
  "language_info": {
   "codemirror_mode": {
    "name": "ipython",
    "version": 3
   },
   "file_extension": ".py",
   "mimetype": "text/x-python",
   "name": "python",
   "nbconvert_exporter": "python",
   "pygments_lexer": "ipython3",
   "version": "3.8.8"
  }
 },
 "nbformat": 4,
 "nbformat_minor": 5
}
